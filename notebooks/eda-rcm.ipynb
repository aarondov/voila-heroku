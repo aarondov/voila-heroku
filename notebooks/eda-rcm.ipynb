{
 "cells": [
  {
   "cell_type": "code",
   "execution_count": null,
   "metadata": {
    "extensions": {
     "jupyter_dashboards": {
      "version": 1,
      "views": {
       "default_view": {
        "hidden": true
       }
      }
     }
    }
   },
   "outputs": [],
   "source": [
    "#import python packages for data analysis\n",
    "import pandas as pd, numpy as np\n",
    "import seaborn as sns\n",
    "import altair as alt\n",
    "import matplotlib.pyplot as plt\n",
    "%matplotlib inline\n",
    "import pandas_profiling"
   ]
  },
  {
   "cell_type": "code",
   "execution_count": null,
   "metadata": {
    "extensions": {
     "jupyter_dashboards": {
      "version": 1,
      "views": {
       "default_view": {
        "hidden": true
       }
      }
     }
    }
   },
   "outputs": [],
   "source": [
    "#read source file into iPython Env.\n",
    "dflm=pd.read_excel('dflowtomid.xlsx')\n",
    "pd.options.display.float_format ='{:,.0f}'.format\n",
    "#dflm['Dollar Threshold ID'] = dflm['Dollar Threshold ID'].astype('category')"
   ]
  },
  {
   "cell_type": "code",
   "execution_count": null,
   "metadata": {},
   "outputs": [],
   "source": [
    "eda_rcm=pd.read_csv(r'https://raw.githubusercontent.com/aarondov/voila-heroku/master/eda.csv')\n",
    "\n",
    "eda_rcm.head()"
   ]
  },
  {
   "cell_type": "code",
   "execution_count": null,
   "metadata": {},
   "outputs": [],
   "source": [
    "eda_rcm.shape"
   ]
  },
  {
   "cell_type": "markdown",
   "metadata": {
    "extensions": {
     "jupyter_dashboards": {
      "version": 1,
      "views": {
       "default_view": {
        "col": 0,
        "height": 2,
        "hidden": false,
        "row": 0,
        "width": 12
       }
      }
     }
    }
   },
   "source": [
    "#The enclosed EDA report includes the following key sections:\n",
    "* descriptive statistics including ranges\n",
    "* general overview of the dataset (shape of the data)\n",
    "* histograms for each variable\n",
    "* warnings if a particular variable has a unique distribution such as uniform versus normal\n",
    "* correlations\n",
    "* outliers (extreme values)\n",
    "* missing values\n",
    "\n",
    "### To access the report please scroll down to the profile report. I also included the profile report as a separate html file.\n"
   ]
  },
  {
   "cell_type": "code",
   "execution_count": null,
   "metadata": {
    "extensions": {
     "jupyter_dashboards": {
      "version": 1,
      "views": {
       "default_view": {
        "col": 0,
        "height": 2,
        "hidden": false,
        "row": 2,
        "width": 12
       }
      }
     }
    }
   }
   
